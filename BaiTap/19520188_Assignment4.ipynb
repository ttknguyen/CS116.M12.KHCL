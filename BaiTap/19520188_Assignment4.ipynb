{
  "nbformat": 4,
  "nbformat_minor": 0,
  "metadata": {
    "colab": {
      "name": "19520188_BaiTap4.ipynb",
      "provenance": [],
      "collapsed_sections": [],
      "toc_visible": true
    },
    "kernelspec": {
      "name": "python3",
      "display_name": "Python 3"
    },
    "language_info": {
      "name": "python"
    }
  },
  "cells": [
    {
      "cell_type": "markdown",
      "metadata": {
        "id": "dM1vG2ocfhMg"
      },
      "source": [
        "<h1 align=\"center\"><b>CS116.M12.KHCL - LẬP TRÌNH PYTHON CHO MÁY HỌC</b></h1>\n",
        "<h1 align=\"center\"><b>Bài tập 5: PCA và Logistic Regression </b></h1>\n",
        "\n",
        "**Sinh viên thực hiện:**\n",
        "- Thái Trần Khánh Nguyên - 19520188"
      ]
    },
    {
      "cell_type": "markdown",
      "metadata": {
        "id": "Pd8hO2SJK0XR"
      },
      "source": [
        "# Prepare:"
      ]
    },
    {
      "cell_type": "code",
      "metadata": {
        "colab": {
          "base_uri": "https://localhost:8080/"
        },
        "id": "YTMWjeCnKS-P",
        "outputId": "35fd5dd6-ab90-46c3-a13d-a862cf41833b"
      },
      "source": [
        "#@title Download dữ liệu từ googledrive\n",
        "!gdown --id 1lMOeZdHW9SzUapAPZvf52jEWt4ZEJOKr"
      ],
      "execution_count": 1,
      "outputs": [
        {
          "output_type": "stream",
          "name": "stdout",
          "text": [
            "Downloading...\n",
            "From: https://drive.google.com/uc?id=1lMOeZdHW9SzUapAPZvf52jEWt4ZEJOKr\n",
            "To: /content/Wine.csv\n",
            "\r  0% 0.00/11.5k [00:00<?, ?B/s]\r100% 11.5k/11.5k [00:00<00:00, 23.4MB/s]\n"
          ]
        }
      ]
    },
    {
      "cell_type": "code",
      "metadata": {
        "id": "dA42tZf7K-Aw"
      },
      "source": [
        "#@title Import thư viện\n",
        "import pandas as pd\n",
        "import numpy as np\n",
        "from numpy.linalg import eig\n",
        "\n",
        "from sklearn.preprocessing import StandardScaler\n",
        "from sklearn.decomposition import PCA\n",
        "from sklearn.model_selection import train_test_split\n",
        "from sklearn.linear_model import LogisticRegression\n",
        "\n",
        "import matplotlib.pyplot as plt\n",
        "import seaborn as sns\n",
        "from sklearn import metrics"
      ],
      "execution_count": 2,
      "outputs": []
    },
    {
      "cell_type": "code",
      "metadata": {
        "colab": {
          "base_uri": "https://localhost:8080/",
          "height": 220
        },
        "id": "FAYZJW63LtJJ",
        "outputId": "5977834d-bef4-4c76-8783-bbe0281098b5"
      },
      "source": [
        "#@title Đọc dữ liệu Wine.csv\n",
        "data = pd.read_csv('Wine.csv')\n",
        "data.head()"
      ],
      "execution_count": 3,
      "outputs": [
        {
          "output_type": "execute_result",
          "data": {
            "text/html": [
              "<div>\n",
              "<style scoped>\n",
              "    .dataframe tbody tr th:only-of-type {\n",
              "        vertical-align: middle;\n",
              "    }\n",
              "\n",
              "    .dataframe tbody tr th {\n",
              "        vertical-align: top;\n",
              "    }\n",
              "\n",
              "    .dataframe thead th {\n",
              "        text-align: right;\n",
              "    }\n",
              "</style>\n",
              "<table border=\"1\" class=\"dataframe\">\n",
              "  <thead>\n",
              "    <tr style=\"text-align: right;\">\n",
              "      <th></th>\n",
              "      <th>Alcohol</th>\n",
              "      <th>Malic_Acid</th>\n",
              "      <th>Ash</th>\n",
              "      <th>Ash_Alcanity</th>\n",
              "      <th>Magnesium</th>\n",
              "      <th>Total_Phenols</th>\n",
              "      <th>Flavanoids</th>\n",
              "      <th>Nonflavanoid_Phenols</th>\n",
              "      <th>Proanthocyanins</th>\n",
              "      <th>Color_Intensity</th>\n",
              "      <th>Hue</th>\n",
              "      <th>OD280</th>\n",
              "      <th>Proline</th>\n",
              "      <th>Customer_Segment</th>\n",
              "    </tr>\n",
              "  </thead>\n",
              "  <tbody>\n",
              "    <tr>\n",
              "      <th>0</th>\n",
              "      <td>14.23</td>\n",
              "      <td>1.71</td>\n",
              "      <td>2.43</td>\n",
              "      <td>15.6</td>\n",
              "      <td>127</td>\n",
              "      <td>2.80</td>\n",
              "      <td>3.06</td>\n",
              "      <td>0.28</td>\n",
              "      <td>2.29</td>\n",
              "      <td>5.64</td>\n",
              "      <td>1.04</td>\n",
              "      <td>3.92</td>\n",
              "      <td>1065</td>\n",
              "      <td>1</td>\n",
              "    </tr>\n",
              "    <tr>\n",
              "      <th>1</th>\n",
              "      <td>13.20</td>\n",
              "      <td>1.78</td>\n",
              "      <td>2.14</td>\n",
              "      <td>11.2</td>\n",
              "      <td>100</td>\n",
              "      <td>2.65</td>\n",
              "      <td>2.76</td>\n",
              "      <td>0.26</td>\n",
              "      <td>1.28</td>\n",
              "      <td>4.38</td>\n",
              "      <td>1.05</td>\n",
              "      <td>3.40</td>\n",
              "      <td>1050</td>\n",
              "      <td>1</td>\n",
              "    </tr>\n",
              "    <tr>\n",
              "      <th>2</th>\n",
              "      <td>13.16</td>\n",
              "      <td>2.36</td>\n",
              "      <td>2.67</td>\n",
              "      <td>18.6</td>\n",
              "      <td>101</td>\n",
              "      <td>2.80</td>\n",
              "      <td>3.24</td>\n",
              "      <td>0.30</td>\n",
              "      <td>2.81</td>\n",
              "      <td>5.68</td>\n",
              "      <td>1.03</td>\n",
              "      <td>3.17</td>\n",
              "      <td>1185</td>\n",
              "      <td>1</td>\n",
              "    </tr>\n",
              "    <tr>\n",
              "      <th>3</th>\n",
              "      <td>14.37</td>\n",
              "      <td>1.95</td>\n",
              "      <td>2.50</td>\n",
              "      <td>16.8</td>\n",
              "      <td>113</td>\n",
              "      <td>3.85</td>\n",
              "      <td>3.49</td>\n",
              "      <td>0.24</td>\n",
              "      <td>2.18</td>\n",
              "      <td>7.80</td>\n",
              "      <td>0.86</td>\n",
              "      <td>3.45</td>\n",
              "      <td>1480</td>\n",
              "      <td>1</td>\n",
              "    </tr>\n",
              "    <tr>\n",
              "      <th>4</th>\n",
              "      <td>13.24</td>\n",
              "      <td>2.59</td>\n",
              "      <td>2.87</td>\n",
              "      <td>21.0</td>\n",
              "      <td>118</td>\n",
              "      <td>2.80</td>\n",
              "      <td>2.69</td>\n",
              "      <td>0.39</td>\n",
              "      <td>1.82</td>\n",
              "      <td>4.32</td>\n",
              "      <td>1.04</td>\n",
              "      <td>2.93</td>\n",
              "      <td>735</td>\n",
              "      <td>1</td>\n",
              "    </tr>\n",
              "  </tbody>\n",
              "</table>\n",
              "</div>"
            ],
            "text/plain": [
              "   Alcohol  Malic_Acid   Ash  ...  OD280  Proline  Customer_Segment\n",
              "0    14.23        1.71  2.43  ...   3.92     1065                 1\n",
              "1    13.20        1.78  2.14  ...   3.40     1050                 1\n",
              "2    13.16        2.36  2.67  ...   3.17     1185                 1\n",
              "3    14.37        1.95  2.50  ...   3.45     1480                 1\n",
              "4    13.24        2.59  2.87  ...   2.93      735                 1\n",
              "\n",
              "[5 rows x 14 columns]"
            ]
          },
          "metadata": {},
          "execution_count": 3
        }
      ]
    },
    {
      "cell_type": "code",
      "metadata": {
        "id": "84CBVcH_Omc-"
      },
      "source": [
        "X, y = data.iloc[:,:-1], data['Customer_Segment']"
      ],
      "execution_count": 4,
      "outputs": []
    },
    {
      "cell_type": "code",
      "metadata": {
        "colab": {
          "base_uri": "https://localhost:8080/"
        },
        "id": "l8KL9g7IMHO_",
        "outputId": "b1953500-1716-4b97-efaa-ff0cb82a2b83"
      },
      "source": [
        "  scaler = StandardScaler()\n",
        "  scaler.fit(X)\n",
        "  X = scaler.transform(X)\n",
        "  X"
      ],
      "execution_count": 5,
      "outputs": [
        {
          "output_type": "execute_result",
          "data": {
            "text/plain": [
              "array([[ 1.51861254, -0.5622498 ,  0.23205254, ...,  0.36217728,\n",
              "         1.84791957,  1.01300893],\n",
              "       [ 0.24628963, -0.49941338, -0.82799632, ...,  0.40605066,\n",
              "         1.1134493 ,  0.96524152],\n",
              "       [ 0.19687903,  0.02123125,  1.10933436, ...,  0.31830389,\n",
              "         0.78858745,  1.39514818],\n",
              "       ...,\n",
              "       [ 0.33275817,  1.74474449, -0.38935541, ..., -1.61212515,\n",
              "        -1.48544548,  0.28057537],\n",
              "       [ 0.20923168,  0.22769377,  0.01273209, ..., -1.56825176,\n",
              "        -1.40069891,  0.29649784],\n",
              "       [ 1.39508604,  1.58316512,  1.36520822, ..., -1.52437837,\n",
              "        -1.42894777, -0.59516041]])"
            ]
          },
          "metadata": {},
          "execution_count": 5
        }
      ]
    },
    {
      "cell_type": "markdown",
      "metadata": {
        "id": "CXB7U9I9NvZR"
      },
      "source": [
        "# Logistic Regression"
      ]
    },
    {
      "cell_type": "code",
      "metadata": {
        "id": "TVOF0DNwQz5e"
      },
      "source": [
        "#@title PCA: Giảm chiều dữ liệu từ 13 features thành 2\n",
        "pca_x = PCA(n_components=2)\n",
        "new_x = pca_x.fit_transform(X)"
      ],
      "execution_count": 6,
      "outputs": []
    },
    {
      "cell_type": "code",
      "metadata": {
        "id": "1eytNjiDOIkA"
      },
      "source": [
        "#@title Phân chia dữ liệu train và test\n",
        "X_train, X_test, y_train, y_test = train_test_split(\n",
        "    new_x, y, test_size=0.2, random_state=19520188)"
      ],
      "execution_count": 7,
      "outputs": []
    },
    {
      "cell_type": "code",
      "metadata": {
        "colab": {
          "base_uri": "https://localhost:8080/"
        },
        "id": "qSGui8fwRVYt",
        "outputId": "4a782974-a8ff-41be-c30a-f0787bb2cf43"
      },
      "source": [
        "lr = LogisticRegression()\n",
        "lr.fit(X_train, y_train)"
      ],
      "execution_count": 8,
      "outputs": [
        {
          "output_type": "execute_result",
          "data": {
            "text/plain": [
              "LogisticRegression(C=1.0, class_weight=None, dual=False, fit_intercept=True,\n",
              "                   intercept_scaling=1, l1_ratio=None, max_iter=100,\n",
              "                   multi_class='auto', n_jobs=None, penalty='l2',\n",
              "                   random_state=None, solver='lbfgs', tol=0.0001, verbose=0,\n",
              "                   warm_start=False)"
            ]
          },
          "metadata": {},
          "execution_count": 8
        }
      ]
    },
    {
      "cell_type": "code",
      "metadata": {
        "id": "oMvyl918SUX1"
      },
      "source": [
        "score = lr.score(X_test, y_test)\n",
        "predictions = lr.predict(X_test)\n",
        "cm = metrics.confusion_matrix(y_test, predictions)"
      ],
      "execution_count": 9,
      "outputs": []
    },
    {
      "cell_type": "code",
      "metadata": {
        "colab": {
          "base_uri": "https://localhost:8080/",
          "height": 530
        },
        "id": "_DYWJpZWSlzO",
        "outputId": "7feb97e3-88bc-41c6-d131-173a2e2d9ec6"
      },
      "source": [
        "plt.figure(figsize=(9,9))\n",
        "sns.heatmap(cm, annot=True, fmt=\".3f\", linewidths=.5, square = True, cmap = 'Blues_r');\n",
        "plt.ylabel('Actual label');\n",
        "plt.xlabel('Predicted label');\n",
        "all_sample_title = 'Accuracy Score: {0}'.format(score)\n",
        "plt.title(all_sample_title, size = 15);"
      ],
      "execution_count": 10,
      "outputs": [
        {
          "output_type": "display_data",
          "data": {
            "image/png": "[encoded data removed]",
            "text/plain": [
              "<Figure size 648x648 with 2 Axes>"
            ]
          },
          "metadata": {
            "needs_background": "light"
          }
        }
      ]
    },
    {
      "cell_type": "markdown",
      "metadata": {
        "id": "QVmE6R8BaPN0"
      },
      "source": [
        "#K-Fold cross validation"
      ]
    },
    {
      "cell_type": "code",
      "metadata": {
        "colab": {
          "base_uri": "https://localhost:8080/"
        },
        "id": "MH-FrdtdaU-1",
        "outputId": "23b1ca32-00fe-457a-a741-a4d961354c58"
      },
      "source": [
        "from sklearn.model_selection import KFold\n",
        "\n",
        "kf = KFold(n_splits= 5)\n",
        "acc_list, models, fold_idx = [], [], 1\n",
        "\n",
        "for train_index, test_index in kf.split(new_x):\n",
        "  print(\"TRAINING FOLD:\", fold_idx)\n",
        "\n",
        "  lr = LogisticRegression()\n",
        "  lr.fit(new_x[train_index], y[train_index])\n",
        "  score = lr.score(new_x[test_index], y[test_index])\n",
        "\n",
        "  acc_list.append(score)\n",
        "  models.append(lr)\n",
        "\n",
        "  print(\"Accuracy:\", score)\n",
        "  fold_idx += 1\n",
        "\n",
        "print('\\n* Đánh giá tổng thể các folds:')\n",
        "print(f'> Accuracy: {np.mean(acc_list)} (Độ lệch +- {np.std(acc_list)})')"
      ],
      "execution_count": 15,
      "outputs": [
        {
          "output_type": "stream",
          "name": "stdout",
          "text": [
            "TRAINING FOLD: 1\n",
            "Accuracy: 0.8888888888888888\n",
            "TRAINING FOLD: 2\n",
            "Accuracy: 0.9722222222222222\n",
            "TRAINING FOLD: 3\n",
            "Accuracy: 0.9166666666666666\n",
            "TRAINING FOLD: 4\n",
            "Accuracy: 0.9142857142857143\n",
            "TRAINING FOLD: 5\n",
            "Accuracy: 1.0\n",
            "\n",
            "* Đánh giá tổng thể các folds:\n",
            "> Accuracy: 0.9384126984126983 (Độ lệch +- 0.04109425406682968)\n"
          ]
        }
      ]
    },
    {
      "cell_type": "code",
      "metadata": {
        "colab": {
          "base_uri": "https://localhost:8080/"
        },
        "id": "UG6CjeDKcx54",
        "outputId": "805c2ce8-314f-4d4b-cc35-fccafb019ef5"
      },
      "source": [
        "#@title Sử dụng cross_validation\n",
        "from sklearn.model_selection import cross_val_score\n",
        "\n",
        "lr2 = LogisticRegression()\n",
        "scores = cross_val_score(lr2, new_x, y, cv=5)\n",
        "\n",
        "print('* Đánh giá tổng thể các folds:')\n",
        "print(f'> Accuracy: {np.mean(scores)} (Độ lệch +- {np.std(scores)})')"
      ],
      "execution_count": 14,
      "outputs": [
        {
          "output_type": "stream",
          "name": "stdout",
          "text": [
            "* Đánh giá tổng thể các folds:\n",
            "> Accuracy: 0.9552380952380952 (Độ lệch +- 0.02198627575310471)\n"
          ]
        }
      ]
    }
  ]
}