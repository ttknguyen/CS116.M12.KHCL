{
  "nbformat": 4,
  "nbformat_minor": 0,
  "metadata": {
    "colab": {
      "name": "BaiTap1_CS116.ipynb",
      "provenance": []
    },
    "kernelspec": {
      "name": "python3",
      "display_name": "Python 3"
    },
    "language_info": {
      "name": "python"
    }
  },
  "cells": [
    {
      "cell_type": "markdown",
      "metadata": {
        "id": "5GfGDaKT9slg"
      },
      "source": [
        "<h1 align=\"center\"><b>CS116.M12.KHCL - LẬP TRÌNH PYTHON CHO MÁY HỌC</b></h1>\n",
        "<h1 align=\"center\"><b>Bài tập 1</b></h1>\n",
        "\n",
        "**Sinh viên thực hiện:**\n",
        "- Thái Trần Khánh Nguyên - 19520188"
      ]
    },
    {
      "cell_type": "markdown",
      "metadata": {
        "id": "zcpS_3Wv953y"
      },
      "source": [
        "# Chuẩn bị dữ liệu"
      ]
    },
    {
      "cell_type": "code",
      "metadata": {
        "colab": {
          "base_uri": "https://localhost:8080/"
        },
        "id": "MteO2uyS2Q1u",
        "outputId": "0d96857a-9912-4deb-fed3-80037821c006"
      },
      "source": [
        "!pip install geopandas"
      ],
      "execution_count": 1,
      "outputs": [
        {
          "output_type": "stream",
          "name": "stdout",
          "text": [
            "Collecting geopandas\n",
            "  Downloading geopandas-0.9.0-py2.py3-none-any.whl (994 kB)\n",
            "\u001b[K     |████████████████████████████████| 994 kB 28.6 MB/s \n",
            "\u001b[?25hCollecting fiona>=1.8\n",
            "  Downloading Fiona-1.8.20-cp37-cp37m-manylinux1_x86_64.whl (15.4 MB)\n",
            "\u001b[K     |████████████████████████████████| 15.4 MB 85 kB/s \n",
            "\u001b[?25hCollecting pyproj>=2.2.0\n",
            "  Downloading pyproj-3.2.1-cp37-cp37m-manylinux2010_x86_64.whl (6.3 MB)\n",
            "\u001b[K     |████████████████████████████████| 6.3 MB 46.4 MB/s \n",
            "\u001b[?25hRequirement already satisfied: shapely>=1.6 in /usr/local/lib/python3.7/dist-packages (from geopandas) (1.7.1)\n",
            "Requirement already satisfied: pandas>=0.24.0 in /usr/local/lib/python3.7/dist-packages (from geopandas) (1.1.5)\n",
            "Requirement already satisfied: certifi in /usr/local/lib/python3.7/dist-packages (from fiona>=1.8->geopandas) (2021.5.30)\n",
            "Requirement already satisfied: six>=1.7 in /usr/local/lib/python3.7/dist-packages (from fiona>=1.8->geopandas) (1.15.0)\n",
            "Requirement already satisfied: attrs>=17 in /usr/local/lib/python3.7/dist-packages (from fiona>=1.8->geopandas) (21.2.0)\n",
            "Requirement already satisfied: setuptools in /usr/local/lib/python3.7/dist-packages (from fiona>=1.8->geopandas) (57.4.0)\n",
            "Collecting munch\n",
            "  Downloading munch-2.5.0-py2.py3-none-any.whl (10 kB)\n",
            "Collecting click-plugins>=1.0\n",
            "  Downloading click_plugins-1.1.1-py2.py3-none-any.whl (7.5 kB)\n",
            "Collecting cligj>=0.5\n",
            "  Downloading cligj-0.7.2-py3-none-any.whl (7.1 kB)\n",
            "Requirement already satisfied: click>=4.0 in /usr/local/lib/python3.7/dist-packages (from fiona>=1.8->geopandas) (7.1.2)\n",
            "Requirement already satisfied: python-dateutil>=2.7.3 in /usr/local/lib/python3.7/dist-packages (from pandas>=0.24.0->geopandas) (2.8.2)\n",
            "Requirement already satisfied: pytz>=2017.2 in /usr/local/lib/python3.7/dist-packages (from pandas>=0.24.0->geopandas) (2018.9)\n",
            "Requirement already satisfied: numpy>=1.15.4 in /usr/local/lib/python3.7/dist-packages (from pandas>=0.24.0->geopandas) (1.19.5)\n",
            "Installing collected packages: munch, cligj, click-plugins, pyproj, fiona, geopandas\n",
            "Successfully installed click-plugins-1.1.1 cligj-0.7.2 fiona-1.8.20 geopandas-0.9.0 munch-2.5.0 pyproj-3.2.1\n"
          ]
        }
      ]
    },
    {
      "cell_type": "code",
      "metadata": {
        "colab": {
          "base_uri": "https://localhost:8080/"
        },
        "id": "vFcZL_Vv2YxC",
        "outputId": "cb1b5c7c-3e78-47b9-c5da-97cdb0671d70"
      },
      "source": [
        "!git clone https://github.com/CityScope/CSL_HCMC"
      ],
      "execution_count": 2,
      "outputs": [
        {
          "output_type": "stream",
          "name": "stdout",
          "text": [
            "Cloning into 'CSL_HCMC'...\n",
            "remote: Enumerating objects: 1930, done.\u001b[K\n",
            "remote: Counting objects: 100% (590/590), done.\u001b[K\n",
            "remote: Compressing objects: 100% (314/314), done.\u001b[K\n",
            "remote: Total 1930 (delta 309), reused 500 (delta 270), pack-reused 1340\u001b[K\n",
            "Receiving objects: 100% (1930/1930), 178.53 MiB | 24.68 MiB/s, done.\n",
            "Resolving deltas: 100% (986/986), done.\n",
            "Checking out files: 100% (542/542), done.\n"
          ]
        }
      ]
    },
    {
      "cell_type": "code",
      "metadata": {
        "colab": {
          "base_uri": "https://localhost:8080/"
        },
        "id": "K9bVrIi92msa",
        "outputId": "9b8b85cd-5b97-436e-b7ff-838be7ff9272"
      },
      "source": [
        "%cd CSL_HCMC/"
      ],
      "execution_count": 3,
      "outputs": [
        {
          "output_type": "stream",
          "name": "stdout",
          "text": [
            "/content/CSL_HCMC\n"
          ]
        }
      ]
    },
    {
      "cell_type": "code",
      "metadata": {
        "id": "KInNfio122K2"
      },
      "source": [
        "import pandas as pd\n",
        "import numpy as np\n",
        "import geopandas as gdp"
      ],
      "execution_count": 6,
      "outputs": []
    },
    {
      "cell_type": "code",
      "metadata": {
        "id": "l8ww227y2vd-"
      },
      "source": [
        "path = 'Data/GIS/Population/population_HCMC/population_shapefile/'\n",
        "data = gdp.read_file(path + 'Population_Ward_Level.shp')"
      ],
      "execution_count": 8,
      "outputs": []
    },
    {
      "cell_type": "code",
      "metadata": {
        "colab": {
          "base_uri": "https://localhost:8080/",
          "height": 571
        },
        "id": "rZyQJbeo3toW",
        "outputId": "fe7b9555-9d64-417c-88e8-40d52f6ddd79"
      },
      "source": [
        "data"
      ],
      "execution_count": 9,
      "outputs": [
        {
          "output_type": "execute_result",
          "data": {
            "text/html": [
              "<div>\n",
              "<style scoped>\n",
              "    .dataframe tbody tr th:only-of-type {\n",
              "        vertical-align: middle;\n",
              "    }\n",
              "\n",
              "    .dataframe tbody tr th {\n",
              "        vertical-align: top;\n",
              "    }\n",
              "\n",
              "    .dataframe thead th {\n",
              "        text-align: right;\n",
              "    }\n",
              "</style>\n",
              "<table border=\"1\" class=\"dataframe\">\n",
              "  <thead>\n",
              "    <tr style=\"text-align: right;\">\n",
              "      <th></th>\n",
              "      <th>Com_Name</th>\n",
              "      <th>Dist_Name</th>\n",
              "      <th>Com_ID</th>\n",
              "      <th>Dist_ID</th>\n",
              "      <th>Level</th>\n",
              "      <th>Pop_2009</th>\n",
              "      <th>Pop_2019</th>\n",
              "      <th>Den_2009</th>\n",
              "      <th>Den_2019</th>\n",
              "      <th>Shape_Leng</th>\n",
              "      <th>Shape_Area</th>\n",
              "      <th>geometry</th>\n",
              "    </tr>\n",
              "  </thead>\n",
              "  <tbody>\n",
              "    <tr>\n",
              "      <th>0</th>\n",
              "      <td>Tan Dinh</td>\n",
              "      <td>District 1</td>\n",
              "      <td>26734</td>\n",
              "      <td>760</td>\n",
              "      <td>Ward</td>\n",
              "      <td>26571.0</td>\n",
              "      <td>23258.0</td>\n",
              "      <td>41942.70</td>\n",
              "      <td>36713.10</td>\n",
              "      <td>3679.098196</td>\n",
              "      <td>6.334981e+05</td>\n",
              "      <td>POLYGON ((684350.511 1193546.266, 684363.810 1...</td>\n",
              "    </tr>\n",
              "    <tr>\n",
              "      <th>1</th>\n",
              "      <td>Ben Nghe</td>\n",
              "      <td>District 1</td>\n",
              "      <td>26740</td>\n",
              "      <td>760</td>\n",
              "      <td>Ward</td>\n",
              "      <td>13580.0</td>\n",
              "      <td>10633.0</td>\n",
              "      <td>5480.09</td>\n",
              "      <td>4290.86</td>\n",
              "      <td>6978.149149</td>\n",
              "      <td>2.478041e+06</td>\n",
              "      <td>POLYGON ((686564.657 1193462.473, 686588.924 1...</td>\n",
              "    </tr>\n",
              "    <tr>\n",
              "      <th>2</th>\n",
              "      <td>Cau Ong Lanh</td>\n",
              "      <td>District 1</td>\n",
              "      <td>26752</td>\n",
              "      <td>760</td>\n",
              "      <td>Ward</td>\n",
              "      <td>12917.0</td>\n",
              "      <td>10737.0</td>\n",
              "      <td>56878.90</td>\n",
              "      <td>47279.50</td>\n",
              "      <td>2260.705105</td>\n",
              "      <td>2.270938e+05</td>\n",
              "      <td>POLYGON ((685922.373 1190479.807, 685914.160 1...</td>\n",
              "    </tr>\n",
              "    <tr>\n",
              "      <th>3</th>\n",
              "      <td>Nguyen Thai Binh</td>\n",
              "      <td>District 1</td>\n",
              "      <td>26746</td>\n",
              "      <td>760</td>\n",
              "      <td>Ward</td>\n",
              "      <td>13197.0</td>\n",
              "      <td>9716.0</td>\n",
              "      <td>26798.80</td>\n",
              "      <td>19730.00</td>\n",
              "      <td>3320.174618</td>\n",
              "      <td>4.924426e+05</td>\n",
              "      <td>POLYGON ((685966.333 1190513.667, 685944.353 1...</td>\n",
              "    </tr>\n",
              "    <tr>\n",
              "      <th>4</th>\n",
              "      <td>Co Giang</td>\n",
              "      <td>District 1</td>\n",
              "      <td>26755</td>\n",
              "      <td>760</td>\n",
              "      <td>Ward</td>\n",
              "      <td>18967.0</td>\n",
              "      <td>11517.0</td>\n",
              "      <td>53327.60</td>\n",
              "      <td>32381.20</td>\n",
              "      <td>2525.453814</td>\n",
              "      <td>3.556650e+05</td>\n",
              "      <td>POLYGON ((685514.573 1190211.431, 685547.521 1...</td>\n",
              "    </tr>\n",
              "    <tr>\n",
              "      <th>...</th>\n",
              "      <td>...</td>\n",
              "      <td>...</td>\n",
              "      <td>...</td>\n",
              "      <td>...</td>\n",
              "      <td>...</td>\n",
              "      <td>...</td>\n",
              "      <td>...</td>\n",
              "      <td>...</td>\n",
              "      <td>...</td>\n",
              "      <td>...</td>\n",
              "      <td>...</td>\n",
              "      <td>...</td>\n",
              "    </tr>\n",
              "    <tr>\n",
              "      <th>317</th>\n",
              "      <td>Tan Hung Thuan</td>\n",
              "      <td>District 12</td>\n",
              "      <td>26787</td>\n",
              "      <td>761</td>\n",
              "      <td>Ward</td>\n",
              "      <td>28892.0</td>\n",
              "      <td>33467.0</td>\n",
              "      <td>16053.40</td>\n",
              "      <td>18595.50</td>\n",
              "      <td>6271.308704</td>\n",
              "      <td>1.799659e+06</td>\n",
              "      <td>POLYGON ((677816.513 1197206.772, 677796.932 1...</td>\n",
              "    </tr>\n",
              "    <tr>\n",
              "      <th>318</th>\n",
              "      <td>Ward 17</td>\n",
              "      <td>Go Vap</td>\n",
              "      <td>26875</td>\n",
              "      <td>764</td>\n",
              "      <td>Ward</td>\n",
              "      <td>44226.0</td>\n",
              "      <td>54728.0</td>\n",
              "      <td>38061.20</td>\n",
              "      <td>47099.30</td>\n",
              "      <td>6385.950275</td>\n",
              "      <td>1.161947e+06</td>\n",
              "      <td>POLYGON ((683516.949 1200006.226, 683509.721 1...</td>\n",
              "    </tr>\n",
              "    <tr>\n",
              "      <th>319</th>\n",
              "      <td>Ward 8</td>\n",
              "      <td>Go Vap</td>\n",
              "      <td>26898</td>\n",
              "      <td>764</td>\n",
              "      <td>Ward</td>\n",
              "      <td>26545.0</td>\n",
              "      <td>32778.0</td>\n",
              "      <td>22751.50</td>\n",
              "      <td>28093.70</td>\n",
              "      <td>5409.821020</td>\n",
              "      <td>1.166701e+06</td>\n",
              "      <td>POLYGON ((680928.492 1199066.285, 680984.889 1...</td>\n",
              "    </tr>\n",
              "    <tr>\n",
              "      <th>320</th>\n",
              "      <td>Ward 9</td>\n",
              "      <td>Go Vap</td>\n",
              "      <td>26897</td>\n",
              "      <td>764</td>\n",
              "      <td>Ward</td>\n",
              "      <td>26785.0</td>\n",
              "      <td>34596.0</td>\n",
              "      <td>31843.10</td>\n",
              "      <td>41129.20</td>\n",
              "      <td>3950.799798</td>\n",
              "      <td>8.411288e+05</td>\n",
              "      <td>POLYGON ((681120.443 1199640.183, 681120.846 1...</td>\n",
              "    </tr>\n",
              "    <tr>\n",
              "      <th>321</th>\n",
              "      <td>Ward 12</td>\n",
              "      <td>Go Vap</td>\n",
              "      <td>26881</td>\n",
              "      <td>764</td>\n",
              "      <td>Ward</td>\n",
              "      <td>50356.0</td>\n",
              "      <td>60502.0</td>\n",
              "      <td>35096.20</td>\n",
              "      <td>42167.60</td>\n",
              "      <td>4848.143508</td>\n",
              "      <td>1.434747e+06</td>\n",
              "      <td>POLYGON ((679970.916 1198480.707, 679932.874 1...</td>\n",
              "    </tr>\n",
              "  </tbody>\n",
              "</table>\n",
              "<p>322 rows × 12 columns</p>\n",
              "</div>"
            ],
            "text/plain": [
              "             Com_Name  ...                                           geometry\n",
              "0            Tan Dinh  ...  POLYGON ((684350.511 1193546.266, 684363.810 1...\n",
              "1            Ben Nghe  ...  POLYGON ((686564.657 1193462.473, 686588.924 1...\n",
              "2        Cau Ong Lanh  ...  POLYGON ((685922.373 1190479.807, 685914.160 1...\n",
              "3    Nguyen Thai Binh  ...  POLYGON ((685966.333 1190513.667, 685944.353 1...\n",
              "4            Co Giang  ...  POLYGON ((685514.573 1190211.431, 685547.521 1...\n",
              "..                ...  ...                                                ...\n",
              "317    Tan Hung Thuan  ...  POLYGON ((677816.513 1197206.772, 677796.932 1...\n",
              "318           Ward 17  ...  POLYGON ((683516.949 1200006.226, 683509.721 1...\n",
              "319            Ward 8  ...  POLYGON ((680928.492 1199066.285, 680984.889 1...\n",
              "320            Ward 9  ...  POLYGON ((681120.443 1199640.183, 681120.846 1...\n",
              "321           Ward 12  ...  POLYGON ((679970.916 1198480.707, 679932.874 1...\n",
              "\n",
              "[322 rows x 12 columns]"
            ]
          },
          "metadata": {},
          "execution_count": 9
        }
      ]
    },
    {
      "cell_type": "markdown",
      "metadata": {
        "id": "S1UR-JDF9-1-"
      },
      "source": [
        "# Các câu truy vấn"
      ]
    },
    {
      "cell_type": "markdown",
      "metadata": {
        "id": "ExKkSuN7-C0P"
      },
      "source": [
        "## Câu 1:\n",
        "Phường nào có diện tích lớn nhất"
      ]
    },
    {
      "cell_type": "code",
      "metadata": {
        "colab": {
          "base_uri": "https://localhost:8080/"
        },
        "id": "8ARWSVjP6gCe",
        "outputId": "82c68ff8-6e7b-46da-a518-89ef911f71db"
      },
      "source": [
        "max(data['Shape_Area'])"
      ],
      "execution_count": 88,
      "outputs": [
        {
          "output_type": "execute_result",
          "data": {
            "text/plain": [
              "161193856.431"
            ]
          },
          "metadata": {},
          "execution_count": 88
        }
      ]
    },
    {
      "cell_type": "code",
      "metadata": {
        "colab": {
          "base_uri": "https://localhost:8080/"
        },
        "id": "mHcOxP0J8P-e",
        "outputId": "bbc5444f-2233-4d7e-c2bd-b3d83b54cd20"
      },
      "source": [
        "Largest_Com = data[data.Shape_Area == max(data['Shape_Area'])]\n",
        "print('Phường có diện tích lớn nhất:', Largest_Com['Com_Name'].values[0], '-',  Largest_Com['Dist_Name'].values[0])"
      ],
      "execution_count": 140,
      "outputs": [
        {
          "output_type": "stream",
          "name": "stdout",
          "text": [
            "Phường có diện tích lớn nhất: Ly Nhon - Can Gio\n"
          ]
        }
      ]
    },
    {
      "cell_type": "markdown",
      "metadata": {
        "id": "EqASUDoM-a85"
      },
      "source": [
        "## Câu 2:\n",
        "Phường nào có dân số 2019(Pop_2019) cao nhất"
      ]
    },
    {
      "cell_type": "code",
      "metadata": {
        "colab": {
          "base_uri": "https://localhost:8080/"
        },
        "id": "dT29e6j8-nPY",
        "outputId": "dae50e27-fac0-46bb-e0be-dc45c6f613cb"
      },
      "source": [
        "max(data['Pop_2019'])"
      ],
      "execution_count": 90,
      "outputs": [
        {
          "output_type": "execute_result",
          "data": {
            "text/plain": [
              "124709.0"
            ]
          },
          "metadata": {},
          "execution_count": 90
        }
      ]
    },
    {
      "cell_type": "code",
      "metadata": {
        "colab": {
          "base_uri": "https://localhost:8080/"
        },
        "id": "4u3mKTuH-tJP",
        "outputId": "93d3977b-545c-492b-d6d0-18c8fd389acc"
      },
      "source": [
        "Most_Populous = data[data.Pop_2019 == max(data['Pop_2019'])]\n",
        "print('Phường có dân số 2019 cao nhất:',Most_Populous['Com_Name'].values[0], '-',Most_Populous['Dist_Name'].values[0])"
      ],
      "execution_count": 141,
      "outputs": [
        {
          "output_type": "stream",
          "name": "stdout",
          "text": [
            "Phường có dân số 2019 cao nhất: Vinh Loc A - Binh Chanh\n"
          ]
        }
      ]
    },
    {
      "cell_type": "markdown",
      "metadata": {
        "id": "5_HaMV2m_qPo"
      },
      "source": [
        "## Câu 3:\n",
        "Phường nào có diện tích nhỏ nhất"
      ]
    },
    {
      "cell_type": "code",
      "metadata": {
        "colab": {
          "base_uri": "https://localhost:8080/"
        },
        "id": "ZibMFXVq_xpi",
        "outputId": "e9b102d3-732d-4e47-82b3-d97865e4f4bf"
      },
      "source": [
        "min(data['Shape_Area'])"
      ],
      "execution_count": 92,
      "outputs": [
        {
          "output_type": "execute_result",
          "data": {
            "text/plain": [
              "101642.928821"
            ]
          },
          "metadata": {},
          "execution_count": 92
        }
      ]
    },
    {
      "cell_type": "code",
      "metadata": {
        "colab": {
          "base_uri": "https://localhost:8080/"
        },
        "id": "Bw52AM5K_p9r",
        "outputId": "24a66ee2-c4ae-4542-f21c-4f501a521cc3"
      },
      "source": [
        "Smallest_Com = data[data.Shape_Area == min(data['Shape_Area'])]\n",
        "print('Phường có diện tích nhỏ nhất:',Smallest_Com['Com_Name'].values[0], '-',Smallest_Com['Dist_Name'].values[0])"
      ],
      "execution_count": 142,
      "outputs": [
        {
          "output_type": "stream",
          "name": "stdout",
          "text": [
            "Phường có diện tích nhỏ nhất: Ward 3 - District 10\n"
          ]
        }
      ]
    },
    {
      "cell_type": "markdown",
      "metadata": {
        "id": "7PzZTzSh_37m"
      },
      "source": [
        "## Câu 4:\n",
        "Phường nào có dân số thấp nhất(2019)"
      ]
    },
    {
      "cell_type": "code",
      "metadata": {
        "colab": {
          "base_uri": "https://localhost:8080/"
        },
        "id": "yfQqdzgnABR5",
        "outputId": "82045d1d-aaaf-46de-b01d-6c7f816c2b25"
      },
      "source": [
        "Lowest_Pop = data[data.Pop_2019 == min(data['Pop_2019'])]\n",
        "print('Phường có dân số thấp nhất(2019):', Lowest_Pop['Com_Name'].values[0],'-',Lowest_Pop['Dist_Name'].values[0])"
      ],
      "execution_count": 143,
      "outputs": [
        {
          "output_type": "stream",
          "name": "stdout",
          "text": [
            "Phường có dân số thấp nhất(2019): An Khanh - District 2\n"
          ]
        }
      ]
    },
    {
      "cell_type": "markdown",
      "metadata": {
        "id": "r76RhBJ4AtC-"
      },
      "source": [
        "## Câu 5:\n",
        "Phường nào có tốc độ tăng trưởng dân số nhanh nhất(dựa trên Pop_2009 và Pop_2019)"
      ]
    },
    {
      "cell_type": "code",
      "metadata": {
        "colab": {
          "base_uri": "https://localhost:8080/"
        },
        "id": "6E9yjdS0As1W",
        "outputId": "8a10de79-061a-4b5f-fd81-994b6619ed32"
      },
      "source": [
        "data['Inc_Pop'] = data['Pop_2019'] / data['Pop_2009']\n",
        "highest = data[data.TDTT == max(data['Inc_Pop'])]\n",
        "print('Phường có tốc độ tăng trưởng dân số nhanh nhất:',highest['Com_Name'].values[0],'-',highest['Dist_Name'].values[0])"
      ],
      "execution_count": 144,
      "outputs": [
        {
          "output_type": "stream",
          "name": "stdout",
          "text": [
            "Phường có tốc độ tăng trưởng dân số nhanh nhất: Phu Huu - District 9\n"
          ]
        }
      ]
    },
    {
      "cell_type": "markdown",
      "metadata": {
        "id": "Uji1FYW3DLt4"
      },
      "source": [
        "## Câu 6:\n",
        "Phường nào có tốc độ tăng trưởng dân số thấp nhất"
      ]
    },
    {
      "cell_type": "code",
      "metadata": {
        "colab": {
          "base_uri": "https://localhost:8080/"
        },
        "id": "jLV-32ijDR5j",
        "outputId": "7d37c70d-40cc-4e47-c2dc-132bde0b8ed9"
      },
      "source": [
        "lowest = data[data.Inc_Pop == min(data['Inc_Pop'])]\n",
        "print('Phường có tốc độ tăng trưởng dân số thấp nhất:',lowest['Com_Name'].values[0],'-',lowest['Dist_Name'].values[0])"
      ],
      "execution_count": 145,
      "outputs": [
        {
          "output_type": "stream",
          "name": "stdout",
          "text": [
            "Phường có tốc độ tăng trưởng dân số thấp nhất: An Khanh - District 2\n"
          ]
        }
      ]
    },
    {
      "cell_type": "markdown",
      "metadata": {
        "id": "E79P26IoDaBa"
      },
      "source": [
        "## Câu 7:\n",
        "Phường nào có biến động dân số nhanh nhất"
      ]
    },
    {
      "cell_type": "code",
      "metadata": {
        "colab": {
          "base_uri": "https://localhost:8080/"
        },
        "id": "sJNLTjJEDmXx",
        "outputId": "707abc54-388c-477d-8685-51536d4452f5"
      },
      "source": [
        "data['Volatility'] = abs(data['Pop_2019'] - data['Pop_2009'])\n",
        "Highest_Vol = data[data.Volatility == max(data['Volatility'])]\n",
        "print('Phường có biến động dân số nhanh nhất:', Highest_Vol['Com_Name'].values[0],'-', Highest_Vol['Dist_Name'].values[0])"
      ],
      "execution_count": 147,
      "outputs": [
        {
          "output_type": "stream",
          "name": "stdout",
          "text": [
            "Phường có biến động dân số nhanh nhất: Vinh Loc A - Binh Chanh\n"
          ]
        }
      ]
    },
    {
      "cell_type": "markdown",
      "metadata": {
        "id": "SvYpORteETNf"
      },
      "source": [
        "##Câu 8:\n",
        "Phường nào có biến động dân số chậm nhất"
      ]
    },
    {
      "cell_type": "code",
      "metadata": {
        "colab": {
          "base_uri": "https://localhost:8080/"
        },
        "id": "AO7VR7t5EZNA",
        "outputId": "4bb80b05-6133-4253-e3fd-81e665648c1a"
      },
      "source": [
        "Lowest_Vol = data[data.Volatility == min(data['Volatility'])]\n",
        "print('Phường có biến động dân số chậm nhất:', Lowest_Vol['Com_Name'].values[0],'-', Lowest_Vol['Dist_Name'].values[0])"
      ],
      "execution_count": 148,
      "outputs": [
        {
          "output_type": "stream",
          "name": "stdout",
          "text": [
            "Phường có biến động dân số chậm nhất: Ward 2 - Binh Thanh\n"
          ]
        }
      ]
    },
    {
      "cell_type": "markdown",
      "metadata": {
        "id": "bReH6WQ9Ee1f"
      },
      "source": [
        "##Câu 9:\n",
        "Phường nào có mật độ dân số cao nhất (2019)"
      ]
    },
    {
      "cell_type": "code",
      "metadata": {
        "colab": {
          "base_uri": "https://localhost:8080/"
        },
        "id": "bKYgfKghFHIC",
        "outputId": "127c5bfc-5a37-465c-dbc3-67d8fc814320"
      },
      "source": [
        "data['Density'] = data['Pop_2019'] / data['Shape_Area']\n",
        "Highest_Den = data[data.Density == max(data['Density'])]\n",
        "print('Phường có mật độ dân số cao nhất(2019):', Highest_Den['Com_Name'].values[0],'-', Highest_Den['Com_Name'].values[0])"
      ],
      "execution_count": 149,
      "outputs": [
        {
          "output_type": "stream",
          "name": "stdout",
          "text": [
            "Phường có mật độ dân số cao nhất(2019): Ward 8 - Ward 8\n"
          ]
        }
      ]
    },
    {
      "cell_type": "markdown",
      "metadata": {
        "id": "stvBz9BlE4pX"
      },
      "source": [
        "##Câu 10:\n",
        "Phường nào có mật độ dân số thấp nhất(2019)"
      ]
    },
    {
      "cell_type": "code",
      "metadata": {
        "colab": {
          "base_uri": "https://localhost:8080/"
        },
        "id": "tMya-U2bFaQ-",
        "outputId": "58c0c21a-0aea-4a66-d6ff-d06e892782d8"
      },
      "source": [
        "Lowest_Den = data[data.Density == min(data['Density'])]\n",
        "print('Phường có mật độ dân số thấp nhất(2019):', Lowest_Den['Com_Name'].values[0],'-', Lowest_Den['Dist_Name'].values[0])"
      ],
      "execution_count": 150,
      "outputs": [
        {
          "output_type": "stream",
          "name": "stdout",
          "text": [
            "Phường có mật độ dân số thấp nhất(2019): Ly Nhon - Can Gio\n"
          ]
        }
      ]
    }
  ]
}